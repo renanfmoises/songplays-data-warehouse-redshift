{
 "cells": [
  {
   "cell_type": "markdown",
   "id": "51c834c9",
   "metadata": {},
   "source": [
    "## Testing parsing AWS config file"
   ]
  },
  {
   "cell_type": "code",
   "execution_count": 16,
   "id": "d7e182df",
   "metadata": {},
   "outputs": [
    {
     "name": "stdout",
     "output_type": "stream",
     "text": [
      "The autoreload extension is already loaded. To reload it, use:\n",
      "  %reload_ext autoreload\n"
     ]
    }
   ],
   "source": [
    "# Activate autoreload python extension\n",
    "%load_ext autoreload\n",
    "%autoreload 2"
   ]
  },
  {
   "cell_type": "code",
   "execution_count": 17,
   "id": "c4e90aae",
   "metadata": {},
   "outputs": [],
   "source": [
    "import configparser"
   ]
  },
  {
   "cell_type": "code",
   "execution_count": 18,
   "id": "c8a10b02",
   "metadata": {},
   "outputs": [],
   "source": [
    "# Reading config file \n",
    "config = configparser.ConfigParser()\n",
    "config.read_file(open(\"../dwh.cfg\"))"
   ]
  },
  {
   "cell_type": "code",
   "execution_count": 19,
   "id": "84988f2e",
   "metadata": {},
   "outputs": [
    {
     "data": {
      "text/plain": [
       "'us-east-2'"
      ]
     },
     "execution_count": 19,
     "metadata": {},
     "output_type": "execute_result"
    }
   ],
   "source": [
    "# Try and get section values\n",
    "config.get('AWS', 'REGION')"
   ]
  },
  {
   "cell_type": "code",
   "execution_count": null,
   "id": "b6ef3ca0",
   "metadata": {},
   "outputs": [],
   "source": []
  }
 ],
 "metadata": {
  "kernelspec": {
   "display_name": "Python 3 (ipykernel)",
   "language": "python",
   "name": "python3"
  },
  "language_info": {
   "codemirror_mode": {
    "name": "ipython",
    "version": 3
   },
   "file_extension": ".py",
   "mimetype": "text/x-python",
   "name": "python",
   "nbconvert_exporter": "python",
   "pygments_lexer": "ipython3",
   "version": "3.8.12"
  },
  "toc": {
   "base_numbering": 1,
   "nav_menu": {},
   "number_sections": true,
   "sideBar": true,
   "skip_h1_title": false,
   "title_cell": "Table of Contents",
   "title_sidebar": "Contents",
   "toc_cell": false,
   "toc_position": {},
   "toc_section_display": true,
   "toc_window_display": false
  }
 },
 "nbformat": 4,
 "nbformat_minor": 5
}
