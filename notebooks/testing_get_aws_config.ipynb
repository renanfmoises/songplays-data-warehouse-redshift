{
 "cells": [
  {
   "cell_type": "markdown",
   "id": "3e74398b",
   "metadata": {},
   "source": [
    "## Testing parsing AWS config file"
   ]
  },
  {
   "cell_type": "code",
   "execution_count": 1,
   "id": "a81d3fd8",
   "metadata": {},
   "outputs": [],
   "source": [
    "# Activate autoreload python extension\n",
    "%load_ext autoreload\n",
    "%autoreload 2"
   ]
  },
  {
   "cell_type": "code",
   "execution_count": 2,
   "id": "107a4503",
   "metadata": {},
   "outputs": [],
   "source": [
    "import configparser"
   ]
  },
  {
   "cell_type": "code",
   "execution_count": null,
   "id": "c88763cc",
   "metadata": {},
   "outputs": [],
   "source": [
    "# Reading config file \n",
    "config = configparser.ConfigParser()\n",
    "config.read_file(open(\"../dwh.cfg\"))"
   ]
  },
  {
   "cell_type": "code",
   "execution_count": null,
   "id": "74d0dea3",
   "metadata": {},
   "outputs": [],
   "source": [
    "# Try and get section values\n",
    "config.get('AWS', 'REGION')"
   ]
  },
  {
   "cell_type": "code",
   "execution_count": 3,
   "id": "529320c7",
   "metadata": {},
   "outputs": [],
   "source": [
    "import sys\n",
    "import os\n",
    "\n",
    "sys.path.append(os.path.abspath(\"..\"))"
   ]
  },
  {
   "cell_type": "code",
   "execution_count": 4,
   "id": "f9d419ea",
   "metadata": {},
   "outputs": [
    {
     "ename": "FileNotFoundError",
     "evalue": "[Errno 2] No such file or directory: 'dwh.cfg'",
     "output_type": "error",
     "traceback": [
      "\u001b[0;31m---------------------------------------------------------------------------\u001b[0m",
      "\u001b[0;31mFileNotFoundError\u001b[0m                         Traceback (most recent call last)",
      "\u001b[0;32m/var/folders/wl/0f_drsss6j3fltq3dgnjsj_m0000gn/T/ipykernel_71903/178514034.py\u001b[0m in \u001b[0;36m<module>\u001b[0;34m\u001b[0m\n\u001b[0;32m----> 1\u001b[0;31m \u001b[0;32mfrom\u001b[0m \u001b[0maws_params\u001b[0m \u001b[0;32mimport\u001b[0m \u001b[0mget_params\u001b[0m\u001b[0;34m\u001b[0m\u001b[0;34m\u001b[0m\u001b[0m\n\u001b[0m",
      "\u001b[0;32m~/Projects/songplays-data-warehouse-redshift/aws_params.py\u001b[0m in \u001b[0;36m<module>\u001b[0;34m\u001b[0m\n\u001b[1;32m     26\u001b[0m \u001b[0;34m\u001b[0m\u001b[0m\n\u001b[1;32m     27\u001b[0m \u001b[0mconfig\u001b[0m \u001b[0;34m=\u001b[0m \u001b[0mconfigparser\u001b[0m\u001b[0;34m.\u001b[0m\u001b[0mConfigParser\u001b[0m\u001b[0;34m(\u001b[0m\u001b[0;34m)\u001b[0m\u001b[0;34m\u001b[0m\u001b[0;34m\u001b[0m\u001b[0m\n\u001b[0;32m---> 28\u001b[0;31m \u001b[0mconfig\u001b[0m\u001b[0;34m.\u001b[0m\u001b[0mread_file\u001b[0m\u001b[0;34m(\u001b[0m\u001b[0mopen\u001b[0m\u001b[0;34m(\u001b[0m\u001b[0;34m'dwh.cfg'\u001b[0m\u001b[0;34m)\u001b[0m\u001b[0;34m)\u001b[0m\u001b[0;34m\u001b[0m\u001b[0;34m\u001b[0m\u001b[0m\n\u001b[0m\u001b[1;32m     29\u001b[0m \u001b[0;31m# config.read_file(open('../dwh.cfg'))\u001b[0m\u001b[0;34m\u001b[0m\u001b[0;34m\u001b[0m\u001b[0;34m\u001b[0m\u001b[0m\n\u001b[1;32m     30\u001b[0m \u001b[0;34m\u001b[0m\u001b[0m\n",
      "\u001b[0;31mFileNotFoundError\u001b[0m: [Errno 2] No such file or directory: 'dwh.cfg'"
     ]
    }
   ],
   "source": [
    "from aws_params import get_params"
   ]
  },
  {
   "cell_type": "code",
   "execution_count": null,
   "id": "86b7711d",
   "metadata": {},
   "outputs": [],
   "source": [
    "awsParams = get_params()"
   ]
  },
  {
   "cell_type": "code",
   "execution_count": null,
   "id": "9000a207",
   "metadata": {},
   "outputs": [],
   "source": [
    "from aws_iam_roles import get_iam_client\n",
    "\n",
    "iam = get_iam_client(region_name=awsParams.REGION,\n",
    "                     aws_access_key_id=awsParams.KEY,\n",
    "                     aws_secret_access_key=awsParams.SECRET)\n",
    "\n",
    "iam"
   ]
  },
  {
   "cell_type": "code",
   "execution_count": null,
   "id": "6d320627",
   "metadata": {},
   "outputs": [],
   "source": [
    "from aws_iam_roles import create_role\n",
    "\n",
    "role_policy_doc = {\n",
    "    \"Statement\": [\n",
    "        {\n",
    "            \"Action\": \"sts:AssumeRole\",\n",
    "            \"Effect\": \"Allow\",\n",
    "            \"Principal\": {\"Service\": \"redshift.amazonaws.com\"},\n",
    "            }\n",
    "        ],\n",
    "    \"Version\": \"2012-10-17\",\n",
    "    }\n",
    "\n",
    "\n",
    "create_role(iam_client = iam, role_name = awsParams.IAM_ROLE_NAME, role_policy_document = role_policy_doc)"
   ]
  },
  {
   "cell_type": "code",
   "execution_count": null,
   "id": "ea399bec",
   "metadata": {},
   "outputs": [],
   "source": [
    "from aws_iam_roles import attach_role_policy\n",
    "\n",
    "attach_role_policy(iam_client = iam, role_name = awsParams.IAM_ROLE_NAME)"
   ]
  },
  {
   "cell_type": "code",
   "execution_count": null,
   "id": "29f54292",
   "metadata": {},
   "outputs": [],
   "source": [
    "from aws_iam_roles import check_role\n",
    "\n",
    "check_role(iam_client = iam, role_name = awsParams.IAM_ROLE_NAME)"
   ]
  },
  {
   "cell_type": "code",
   "execution_count": null,
   "id": "cc1457ca",
   "metadata": {},
   "outputs": [],
   "source": [
    "from aws_iam_roles import detach_role_policy, delete_role"
   ]
  },
  {
   "cell_type": "code",
   "execution_count": null,
   "id": "6d4e00fc",
   "metadata": {},
   "outputs": [],
   "source": [
    "detach_role_policy(iam_client = iam, role_name = awsParams.IAM_ROLE_NAME)"
   ]
  },
  {
   "cell_type": "code",
   "execution_count": null,
   "id": "7ef47080",
   "metadata": {},
   "outputs": [],
   "source": [
    "delete_role(iam_client = iam, role_name = awsParams.IAM_ROLE_NAME)"
   ]
  },
  {
   "cell_type": "code",
   "execution_count": null,
   "id": "89c2c00b",
   "metadata": {},
   "outputs": [],
   "source": []
  }
 ],
 "metadata": {
  "kernelspec": {
   "display_name": "Python 3 (ipykernel)",
   "language": "python",
   "name": "python3"
  },
  "language_info": {
   "codemirror_mode": {
    "name": "ipython",
    "version": 3
   },
   "file_extension": ".py",
   "mimetype": "text/x-python",
   "name": "python",
   "nbconvert_exporter": "python",
   "pygments_lexer": "ipython3",
   "version": "3.8.12"
  },
  "toc": {
   "base_numbering": 1,
   "nav_menu": {},
   "number_sections": true,
   "sideBar": true,
   "skip_h1_title": false,
   "title_cell": "Table of Contents",
   "title_sidebar": "Contents",
   "toc_cell": false,
   "toc_position": {},
   "toc_section_display": true,
   "toc_window_display": false
  }
 },
 "nbformat": 4,
 "nbformat_minor": 5
}
