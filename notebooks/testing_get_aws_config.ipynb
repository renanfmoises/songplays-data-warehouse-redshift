{
 "cells": [
  {
   "cell_type": "markdown",
   "id": "3e74398b",
   "metadata": {},
   "source": [
    "## Testing parsing AWS config file"
   ]
  },
  {
   "cell_type": "code",
   "execution_count": 1,
   "id": "a81d3fd8",
   "metadata": {},
   "outputs": [],
   "source": [
    "# Activate autoreload python extension\n",
    "%load_ext autoreload\n",
    "%autoreload 2"
   ]
  },
  {
   "cell_type": "code",
   "execution_count": 2,
   "id": "107a4503",
   "metadata": {},
   "outputs": [],
   "source": [
    "import configparser"
   ]
  },
  {
   "cell_type": "code",
   "execution_count": null,
   "id": "c88763cc",
   "metadata": {},
   "outputs": [],
   "source": [
    "# Reading config file \n",
    "config = configparser.ConfigParser()\n",
    "config.read_file(open(\"../dwh.cfg\"))"
   ]
  },
  {
   "cell_type": "code",
   "execution_count": null,
   "id": "74d0dea3",
   "metadata": {},
   "outputs": [],
   "source": [
    "# Try and get section values\n",
    "config.get('AWS', 'REGION')"
   ]
  },
  {
   "cell_type": "code",
   "execution_count": 3,
   "id": "529320c7",
   "metadata": {},
   "outputs": [],
   "source": [
    "import sys\n",
    "import os\n",
    "\n",
    "sys.path.append(os.path.abspath(\"..\"))"
   ]
  },
  {
   "cell_type": "code",
   "execution_count": 5,
   "id": "f9d419ea",
   "metadata": {},
   "outputs": [],
   "source": [
    "from aws_params import get_params"
   ]
  },
  {
   "cell_type": "code",
   "execution_count": 6,
   "id": "86b7711d",
   "metadata": {},
   "outputs": [],
   "source": [
    "awsParams = get_params()"
   ]
  },
  {
   "cell_type": "code",
   "execution_count": 7,
   "id": "9000a207",
   "metadata": {},
   "outputs": [
    {
     "data": {
      "text/plain": [
       "<botocore.client.IAM at 0x111091df0>"
      ]
     },
     "execution_count": 7,
     "metadata": {},
     "output_type": "execute_result"
    }
   ],
   "source": [
    "from aws_iam_roles import get_iam_client\n",
    "\n",
    "iam = get_iam_client(region_name=awsParams.REGION,\n",
    "                     aws_access_key_id=awsParams.KEY,\n",
    "                     aws_secret_access_key=awsParams.SECRET)\n",
    "\n",
    "iam"
   ]
  },
  {
   "cell_type": "code",
   "execution_count": 8,
   "id": "82045c9f",
   "metadata": {},
   "outputs": [
    {
     "name": "stdout",
     "output_type": "stream",
     "text": [
      "Creating a new IAM role named dwhRole...\n",
      "The IAM role dwhRole has been created.\n"
     ]
    }
   ],
   "source": [
    "from aws_iam_roles import create_role\n",
    "\n",
    "role_policy_doc = {\n",
    "    \"Statement\": [\n",
    "        {\n",
    "            \"Action\": \"sts:AssumeRole\",\n",
    "            \"Effect\": \"Allow\",\n",
    "            \"Principal\": {\"Service\": \"redshift.amazonaws.com\"},\n",
    "            }\n",
    "        ],\n",
    "    \"Version\": \"2012-10-17\",\n",
    "    }\n",
    "\n",
    "\n",
    "create_role(iam_client = iam, role_name = awsParams.IAM_ROLE_NAME, role_policy_document = role_policy_doc)"
   ]
  },
  {
   "cell_type": "code",
   "execution_count": 9,
   "id": "d41dc4dd",
   "metadata": {},
   "outputs": [
    {
     "name": "stdout",
     "output_type": "stream",
     "text": [
      "Attaching the IAM policy named dwhRolePolicy to the IAM role dwhRole...\n",
      "The IAM policy named dwhRolePolicy has been attached to the IAM role dwhRole.\n"
     ]
    }
   ],
   "source": [
    "from aws_iam_roles import attach_role_policy\n",
    "\n",
    "attach_role_policy(iam_client = iam, role_name = awsParams.IAM_ROLE_NAME)"
   ]
  },
  {
   "cell_type": "code",
   "execution_count": 10,
   "id": "a1a59dad",
   "metadata": {},
   "outputs": [
    {
     "name": "stdout",
     "output_type": "stream",
     "text": [
      "Checking if the IAM role dwhRole exists...\n",
      "The IAM role dwhRole exists.\n"
     ]
    },
    {
     "data": {
      "text/plain": [
       "True"
      ]
     },
     "execution_count": 10,
     "metadata": {},
     "output_type": "execute_result"
    }
   ],
   "source": [
    "from aws_iam_roles import check_role\n",
    "\n",
    "check_role(iam_client = iam, role_name = awsParams.IAM_ROLE_NAME)"
   ]
  },
  {
   "cell_type": "code",
   "execution_count": 11,
   "id": "ddd9dbb5",
   "metadata": {},
   "outputs": [],
   "source": [
    "from aws_iam_roles import detach_role_policy, delete_role"
   ]
  },
  {
   "cell_type": "code",
   "execution_count": 12,
   "id": "91d7edeb",
   "metadata": {},
   "outputs": [
    {
     "name": "stdout",
     "output_type": "stream",
     "text": [
      "Detaching the IAM policy named dwhRolePolicy from the IAM role dwhRole...\n",
      "The IAM policy named dwhRolePolicy has been detached from the IAM role dwhRole.\n"
     ]
    }
   ],
   "source": [
    "detach_role_policy(iam_client = iam, role_name = awsParams.IAM_ROLE_NAME)"
   ]
  },
  {
   "cell_type": "code",
   "execution_count": 13,
   "id": "5724d02c",
   "metadata": {},
   "outputs": [
    {
     "name": "stdout",
     "output_type": "stream",
     "text": [
      "Deleting the IAM role named dwhRole...\n",
      "The IAM role dwhRole has been deleted.\n"
     ]
    }
   ],
   "source": [
    "delete_role(iam_client = iam, role_name = awsParams.IAM_ROLE_NAME)"
   ]
  },
  {
   "cell_type": "code",
   "execution_count": null,
   "id": "522f22cb",
   "metadata": {},
   "outputs": [],
   "source": []
  }
 ],
 "metadata": {
  "kernelspec": {
   "display_name": "Python 3 (ipykernel)",
   "language": "python",
   "name": "python3"
  },
  "language_info": {
   "codemirror_mode": {
    "name": "ipython",
    "version": 3
   },
   "file_extension": ".py",
   "mimetype": "text/x-python",
   "name": "python",
   "nbconvert_exporter": "python",
   "pygments_lexer": "ipython3",
   "version": "3.8.12"
  },
  "toc": {
   "base_numbering": 1,
   "nav_menu": {},
   "number_sections": true,
   "sideBar": true,
   "skip_h1_title": false,
   "title_cell": "Table of Contents",
   "title_sidebar": "Contents",
   "toc_cell": false,
   "toc_position": {},
   "toc_section_display": true,
   "toc_window_display": false
  }
 },
 "nbformat": 4,
 "nbformat_minor": 5
}
